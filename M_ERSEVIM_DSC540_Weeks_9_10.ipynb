{
 "cells": [
  {
   "cell_type": "markdown",
   "metadata": {},
   "source": [
    "    Michael Ersevim - DSC540 Week 9 & 10, Activities 9:"
   ]
  },
  {
   "cell_type": "code",
   "execution_count": 1,
   "metadata": {},
   "outputs": [],
   "source": [
    "import urllib.request, urllib.parse, urllib.error\n",
    "import requests\n",
    "from bs4 import BeautifulSoup\n",
    "import ssl\n",
    "import re"
   ]
  },
  {
   "cell_type": "code",
   "execution_count": 2,
   "metadata": {},
   "outputs": [],
   "source": [
    "# Ignore SSL certificate errors\n",
    "ctx = ssl.create_default_context()\n",
    "ctx.check_hostname = False\n",
    "ctx.verify_mode = ssl.CERT_NONE #standard work-around for https sites"
   ]
  },
  {
   "cell_type": "code",
   "execution_count": 32,
   "metadata": {},
   "outputs": [
    {
     "data": {
      "text/plain": [
       "requests.models.Response"
      ]
     },
     "execution_count": 32,
     "metadata": {},
     "output_type": "execute_result"
    }
   ],
   "source": [
    "# Read the HTML from the URL\n",
    "gut_top = 'https://www.gutenberg.org/browse/scores/top'\n",
    "response = requests.get(gut_top)\n",
    "type(response) #we should get a 'models.response' if all is good\n"
   ]
  },
  {
   "cell_type": "code",
   "execution_count": 33,
   "metadata": {},
   "outputs": [],
   "source": [
    "# Write a small function to check the status of web request\n",
    "def status_check(r):\n",
    "    if r.status_code == 200: #the code for 'it worked'\n",
    "        print(\"success!\")\n",
    "        return 1\n",
    "    else:\n",
    "        print(\"Failed\")\n",
    "        return -1"
   ]
  },
  {
   "cell_type": "code",
   "execution_count": 34,
   "metadata": {},
   "outputs": [
    {
     "name": "stdout",
     "output_type": "stream",
     "text": [
      "success!\n"
     ]
    },
    {
     "data": {
      "text/plain": [
       "1"
      ]
     },
     "execution_count": 34,
     "metadata": {},
     "output_type": "execute_result"
    }
   ],
   "source": [
    "status_check(response) # check response - all good!"
   ]
  },
  {
   "cell_type": "code",
   "execution_count": 35,
   "metadata": {},
   "outputs": [
    {
     "data": {
      "text/plain": [
       "'UTF-8'"
      ]
     },
     "execution_count": 35,
     "metadata": {},
     "output_type": "execute_result"
    }
   ],
   "source": [
    "#Decode the response and pass on to BeautifulSoup for HTML parsing\n",
    "def encoding_check(r):\n",
    "    return (r.encoding)\n",
    "\n",
    "encoding_check(response) #wil return the encoding schema. UTF-8 is most widely used"
   ]
  },
  {
   "cell_type": "code",
   "execution_count": 36,
   "metadata": {},
   "outputs": [
    {
     "data": {
      "text/plain": [
       "58537"
      ]
     },
     "execution_count": 36,
     "metadata": {},
     "output_type": "execute_result"
    }
   ],
   "source": [
    "def decode_content(r,encoding):\n",
    "    return (r.content.decode(encoding)) #decodes using the schema found above\n",
    "\n",
    "contents = decode_content(response, encoding_check(response)) # this gives us some content to check the length and \n",
    "type(contents)\n",
    "#len(contents)"
   ]
  },
  {
   "cell_type": "code",
   "execution_count": 37,
   "metadata": {},
   "outputs": [
    {
     "data": {
      "text/plain": [
       "str"
      ]
     },
     "execution_count": 37,
     "metadata": {},
     "output_type": "execute_result"
    }
   ],
   "source": [
    "#Pass on to BeautifulSoup for HTML parsing\n",
    "from bs4 import BeautifulSoup #needed\n",
    "soup = BeautifulSoup(contents, 'html.parser') #needed\n",
    "txt_dump = soup.text\n",
    "type(txt_dump) #ask for type and hope to get 'str'\n"
   ]
  },
  {
   "cell_type": "code",
   "execution_count": 38,
   "metadata": {},
   "outputs": [
    {
     "data": {
      "text/plain": [
       "26330"
      ]
     },
     "execution_count": 38,
     "metadata": {},
     "output_type": "execute_result"
    }
   ],
   "source": [
    "len(txt_dump) #see how long the string is"
   ]
  },
  {
   "cell_type": "code",
   "execution_count": 39,
   "metadata": {},
   "outputs": [
    {
     "name": "stdout",
     "output_type": "stream",
     "text": [
      "n Swift (460)\n",
      "Great Expectations by Charles Dickens (444)\n",
      "Jane Eyre: An Autobiography by Charlotte Brontë (430)\n",
      "Ulysses by James Joyce (420)\n",
      "Heart of Darkness by Joseph Conrad (409)\n",
      "The Importance of Being Earnest: A Trivial Comedy for Serious People by Oscar Wilde (404)\n",
      "The Souls of Black Folk by W. E. B.  Du Bois (386)\n",
      "Bokwala: The Story of a Congo Victim by H. Grattan Guinness and A Congo Resident (364)\n",
      "The Prince by Niccolò Machiavelli (353)\n",
      "From Missouri by Zane Grey (337)\n",
      "Grimms' Fairy Tales by Jacob Grimm and Wilhelm Grimm (334)\n",
      "The Iliad by Homer (328)\n",
      "The Strange Case of Dr. Jekyll and Mr. Hyde by Robert Louis Stevenson (325)\n",
      "Ninth Avenue by Maxwell Bodenheim (317)\n",
      "Metamorphosis by Franz Kafka (317)\n",
      "Narrative of the Life of Frederick Douglass, an American Slave by Frederick Douglass (316)\n",
      "Sam in the Suburbs by P. G.  Wodehouse (311)\n",
      "The Awakening, and Selected Short Stories by Kate Chopin (303)\n",
      "Crime and Punishment by Fyodor Dostoyevsky (302)\n",
      "The Interesting Narrative of the Life of Olaudah Equiano, Or Gustavus Vassa, The African by Equiano (302)\n",
      "Little Women by Louisa May Alcott (301)\n",
      "The Adventures of Tom Sawyer, Complete by Mark Twain (301)\n",
      "A Very Naughty Girl by\n"
     ]
    }
   ],
   "source": [
    "print(txt_dump[2002:3195])"
   ]
  },
  {
   "cell_type": "code",
   "execution_count": 40,
   "metadata": {},
   "outputs": [],
   "source": [
    "# Find all the href tags and store them in the list of links. \n",
    "text_list = [] #empty list created\n",
    "\n",
    "for d in soup.find_all(href = True): #finds all href instances\n",
    "    text_list.append(d.text)"
   ]
  },
  {
   "cell_type": "code",
   "execution_count": 41,
   "metadata": {},
   "outputs": [
    {
     "name": "stdout",
     "output_type": "stream",
     "text": [
      "\n",
      "\n",
      "\n",
      "\n",
      "\n",
      "\n",
      "\n",
      "\n",
      "\n",
      "\n",
      "\n",
      "\n",
      "\n",
      "\n",
      "\n",
      "\n",
      "\n",
      "\n",
      "\n",
      "\n",
      "\n",
      "\n",
      "\n",
      "\n",
      "\n",
      "\n",
      "\n",
      "\n",
      "About\n",
      "          ▾\n",
      "\n",
      "About Project Gutenberg\n",
      "Collection Development\n",
      "Contact Us\n",
      "History & Philosophy\n",
      "Permissions & License\n",
      "Privacy Policy\n",
      "Terms of Use\n",
      "Search and Browse\n",
      "      \t  ▾\n",
      "\n",
      "Book Search\n",
      "Bookshelves\n",
      "Frequently Downloaded\n",
      "Offline Catalogs\n",
      "Help\n",
      "          ▾\n",
      "\n",
      "All help topics →\n",
      "Copyright Procedures\n",
      "Errata, Fixes and Bug Reports\n",
      "File Formats\n",
      "Frequently Asked Questions\n",
      "Policies →\n",
      "Public Domain eBook Submission\n",
      "Submitting Your Own Work\n",
      "Tablets, Phones and eReaders\n",
      "The Attic →\n",
      "Donate\n",
      "Donation\n",
      "Top 100 EBooks yesterday\n",
      "Top 100 Authors yesterday\n",
      "Top 100 EBooks last 7 days\n",
      "Top 100 Authors last 7 days\n",
      "Top 100 EBooks last 30 days\n",
      "Top 100 Authors last 30 days\n",
      "Frankenstein; Or, The Modern Prometheus by Mary Wollstonecraft Shelley (2079)\n",
      "Pride and Prejudice by Jane Austen (1394)\n",
      "Alice's Adventures in Wonderland by Lewis Carroll (722)\n",
      "The Great Gatsby by F. Scott  Fitzgerald (683)\n",
      "The Adventures of Sherlock Holmes by Arthur Conan Doyle (657)\n",
      "The Worst Joke in the World by Elisabeth Sanxay Holding (637)\n",
      "The Scarlet Letter by Nathaniel Hawthorne (598)\n",
      "A Tale of Two Cities by Charles Dickens (573)\n",
      "The Picture of Dorian Gray by Oscar Wilde (552)\n",
      "Dracula by Bram Stoker (537)\n",
      "Moby Dick; Or, The Whale by Herman Melville (534)\n",
      "A Doll's House : a play by Henrik Ibsen (515)\n",
      "The Yellow Wallpaper by Charlotte Perkins Gilman (510)\n",
      "Adventures of Huckleberry Finn by Mark Twain (465)\n",
      "A Christmas Carol in Prose; Being a Ghost Story of Christmas by Charles Dickens (464)\n",
      "A Modest Proposal by Jonathan Swift (460)\n",
      "Great Expectations by Charles Dickens (444)\n",
      "Jane Eyre: An Autobiography by Charlotte Brontë (430)\n",
      "Ulysses by James Joyce (420)\n",
      "Heart of Darkness by Joseph Conrad (409)\n",
      "The Importance of Being Earnest: A Trivial Comedy for Serious People by Oscar Wilde (404)\n",
      "The Souls of Black Folk by W. E. B.  Du Bois (386)\n",
      "Bokwala: The Story of a Congo Victim by H. Grattan Guinness and A Congo Resident (364)\n",
      "The Prince by Niccolò Machiavelli (353)\n",
      "From Missouri by Zane Grey (337)\n",
      "Grimms' Fairy Tales by Jacob Grimm and Wilhelm Grimm (334)\n",
      "The Iliad by Homer (328)\n",
      "The Strange Case of Dr. Jekyll and Mr. Hyde by Robert Louis Stevenson (325)\n",
      "Ninth Avenue by Maxwell Bodenheim (317)\n",
      "Metamorphosis by Franz Kafka (317)\n",
      "Narrative of the Life of Frederick Douglass, an American Slave by Frederick Douglass (316)\n",
      "Sam in the Suburbs by P. G.  Wodehouse (311)\n",
      "The Awakening, and Selected Short Stories by Kate Chopin (303)\n",
      "Crime and Punishment by Fyodor Dostoyevsky (302)\n",
      "The Interesting Narrative of the Life of Olaudah Equiano, Or Gustavus Vassa, The African by Equiano (302)\n",
      "Little Women by Louisa May Alcott (301)\n",
      "The Adventures of Tom Sawyer, Complete by Mark Twain (301)\n",
      "A Very Naughty Girl by L. T. Meade (294)\n",
      "War and Peace by graf Leo Tolstoy (275)\n",
      "Walden, and On The Duty Of Civil Disobedience by Henry David Thoreau (270)\n",
      "Anthem by Ayn Rand (267)\n",
      "Anne of Green Gables by L. M.  Montgomery (263)\n",
      "Tractatus Logico-Philosophicus by Ludwig Wittgenstein (254)\n",
      "The Count of Monte Cristo, Illustrated by Alexandre Dumas (248)\n",
      "Oliver Twist by Charles Dickens (245)\n",
      "The Romance of Lust: A classic Victorian erotic novel by Anonymous (242)\n",
      "Wuthering Heights by Emily Brontë (242)\n",
      "Caleb Conover, Railroader by Albert Payson Terhune (239)\n",
      "Simple Sabotage Field Manual by United States. Office of Strategic Services (238)\n",
      "Treasure Island by Robert Louis Stevenson (238)\n",
      "Second Treatise of Government by John Locke (227)\n",
      "The Odyssey by Homer (221)\n",
      "The Republic by Plato (219)\n",
      "The Jungle by Upton Sinclair (219)\n",
      "The Call of the Wild by Jack London (219)\n",
      "The Wonderful Wizard of Oz by L. Frank  Baum (216)\n",
      "The Brothers Karamazov by Fyodor Dostoyevsky (215)\n",
      "Jackson's Gymnastics for the Fingers and Wrist: being a system of gymnastics, based on anatomical pr (214)\n",
      "Gulliver's Travels into Several Remote Nations of the World by Jonathan Swift (214)\n",
      "Leviathan by Thomas Hobbes (213)\n",
      "Don Quixote by Miguel de Cervantes Saavedra (211)\n",
      "The Prophet by Kahlil Gibran (210)\n",
      "Hadrian the Seventh by Frederick Rolfe (205)\n",
      "Anna Karenina by graf Leo Tolstoy (202)\n",
      "Emma by Jane Austen (197)\n",
      "Essays of Michel de Montaigne — Complete by Michel de Montaigne (197)\n",
      "Dubliners by James Joyce (197)\n",
      "The Time Machine by H. G.  Wells (190)\n",
      "That's Not Love by Elisabeth Sanxay Holding (189)\n",
      "The Hound of the Baskervilles by Arthur Conan Doyle (188)\n",
      "Peter Pan by J. M.  Barrie (184)\n",
      "Around the World in Eighty Days by Jules Verne (177)\n",
      "Les Misérables by Victor Hugo (177)\n",
      "The Works of Edgar Allan Poe — Volume 2 by Edgar Allan Poe (175)\n",
      "Beowulf: An Anglo-Saxon Epic Poem (173)\n",
      "Beyond Good and Evil by Friedrich Wilhelm Nietzsche (171)\n",
      "Sense and Sensibility by Jane Austen (170)\n",
      "Uncle Tom's Cabin by Harriet Beecher Stowe (170)\n",
      "Alice's Adventures in Wonderland by Lewis Carroll (168)\n",
      "A Pickle for the Knowing Ones by Timothy Dexter (166)\n",
      "The War of the Worlds by H. G.  Wells (165)\n",
      "Narrative of the Captivity and Restoration of Mrs. Mary Rowlandson by Mary White Rowlandson (162)\n",
      "Common Sense by Thomas Paine (158)\n",
      "Autobiography of Benjamin Franklin by Benjamin Franklin (158)\n",
      "Frankenstein; Or, The Modern Prometheus by Mary Wollstonecraft Shelley (157)\n",
      "Candide by Voltaire (157)\n",
      "Pygmalion by Bernard Shaw (156)\n",
      "Andersen's Fairy Tales by H. C.  Andersen (155)\n",
      "A Study in Scarlet by Arthur Conan Doyle (151)\n",
      "The Kama Sutra of Vatsyayana by Vatsyayana (149)\n",
      "The Importance of Marking Historic Spots, an Address by Henry W. Shoemaker (148)\n",
      "David Copperfield by Charles Dickens (147)\n",
      "Songs of Innocence and of Experience by William Blake (145)\n",
      "A Portrait of the Artist as a Young Man by James Joyce (144)\n",
      "The Secret Garden by Frances Hodgson Burnett (144)\n",
      "The Confessions of St. Augustine by Bishop of Hippo Saint Augustine (140)\n",
      "The Communist Manifesto by Friedrich Engels and Karl Marx (139)\n",
      "The Legend of Sleepy Hollow by Washington Irving (138)\n",
      "The Eyes Have It by Philip K. Dick (138)\n",
      "Japanese Girls and Women by Alice Mabel Bacon (136)\n",
      "Top 100 EBooks yesterday\n",
      "Top 100 Authors yesterday\n",
      "Top 100 EBooks last 7 days\n",
      "Top 100 Authors last 7 days\n",
      "Top 100 EBooks last 30 days\n",
      "Top 100 Authors last 30 days\n",
      "Dickens, Charles (2547)\n",
      "Shelley, Mary Wollstonecraft (2408)\n",
      "Austen, Jane (2260)\n",
      "Doyle, Arthur Conan (1687)\n",
      "Twain, Mark (1677)\n",
      "Wilde, Oscar (1360)\n",
      "Carroll, Lewis (1177)\n",
      "Shakespeare, William (1064)\n",
      "Dostoyevsky, Fyodor (1008)\n",
      "Hawthorne, Nathaniel (969)\n",
      "Stevenson, Robert Louis (920)\n",
      "Holding, Elisabeth Sanxay (878)\n",
      "Tolstoy, Leo, graf (852)\n",
      "Homer (784)\n",
      "Fitzgerald, F. Scott (Francis Scott) (782)\n",
      "Joyce, James (777)\n",
      "Garnett, Constance (774)\n",
      "Swift, Jonathan (770)\n",
      "Wells, H. G. (Herbert George) (769)\n",
      "Melville, Herman (729)\n",
      "Ibsen, Henrik (729)\n",
      "Wodehouse, P. G. (Pelham Grenville) (711)\n",
      "Plato (702)\n",
      "Nietzsche, Friedrich Wilhelm (700)\n",
      "Conrad, Joseph (670)\n",
      "Jowett, Benjamin (664)\n",
      "Verne, Jules (653)\n",
      "Poe, Edgar Allan (616)\n",
      "Dumas, Alexandre (610)\n",
      "London, Jack (603)\n",
      "Foote, Mary Hallock (600)\n",
      "Anthony, A. V. S. (Andrew Varick Stout) (598)\n",
      "Ipsen, Ludvig Sandöe (598)\n",
      "Stoker, Bram (589)\n",
      "Baum, L. Frank (Lyman Frank) (574)\n",
      "Gilman, Charlotte Perkins (565)\n",
      "Dante Alighieri (551)\n",
      "Chekhov, Anton Pavlovich (539)\n",
      "Du Bois, W. E. B. (William Edward Burghardt) (539)\n",
      "Christie, Agatha (536)\n",
      "Pope, Alexander (534)\n",
      "Brontë, Charlotte (522)\n",
      "Kipling, Rudyard (519)\n",
      "Montgomery, L. M. (Lucy Maud) (515)\n",
      "Leech, John (511)\n",
      "Doré, Gustave (496)\n",
      "Kemble, E. W. (Edward Windsor) (493)\n",
      "Alcott, Louisa May (479)\n",
      "Grey, Zane (455)\n",
      "Russell, Bertrand (450)\n",
      "Townsend, F. H. (Frederick Henry) (445)\n",
      "Grimm, Jacob (440)\n",
      "Grimm, Wilhelm (440)\n",
      "Chesterton, G. K. (Gilbert Keith) (440)\n",
      "Hugo, Victor (439)\n",
      "Rizal, José (436)\n",
      "Kafka, Franz (431)\n",
      "Thoreau, Henry David (420)\n",
      "James, Henry (412)\n",
      "Cervantes Saavedra, Miguel de (403)\n",
      "Machiavelli, Niccolò (388)\n",
      "Bodenheim, Maxwell (387)\n",
      "Wyllie, David (Translator) (386)\n",
      "Maude, Aylmer (383)\n",
      "Widger, David (377)\n",
      "Barrie, J. M. (James Matthew) (373)\n",
      "Shaw, Bernard (370)\n",
      "Maude, Louise (368)\n",
      "Guinness, H. Grattan (364)\n",
      "Resident, A Congo (364)\n",
      "Marriott, W. K. (William Kenaz) (354)\n",
      "Morley, Henry (354)\n",
      "Buckley, Theodore Alois (353)\n",
      "Douglass, Frederick (346)\n",
      "Lang, Andrew (343)\n",
      "Street, Frank (342)\n",
      "Wharton, Edith (341)\n",
      "Burnett, Frances Hodgson (339)\n",
      "Howard, Oscar (337)\n",
      "Butler, Samuel (331)\n",
      "Meade, L. T. (320)\n",
      "Defoe, Daniel (318)\n",
      "Cary, Henry Francis (317)\n",
      "Chopin, Kate (314)\n",
      "Terhune, Albert Payson (310)\n",
      "Equiano, Olaudah (303)\n",
      "Burton, Richard Francis, Sir (295)\n",
      "Locke, John (287)\n",
      "Goethe, Johann Wolfgang von (286)\n",
      "Hapgood, Isabel Florence (278)\n",
      "Maupassant, Guy de (277)\n",
      "Scott, Walter (274)\n",
      "Irving, Washington (273)\n",
      "Voltaire (272)\n",
      "Hardy, Thomas (272)\n",
      "Rand, Ayn (269)\n",
      "Eliot, George (268)\n",
      "Dick, Philip K. (266)\n",
      "Aristotle (265)\n",
      "Ormsby, John (263)\n",
      "Top 100 EBooks yesterday\n",
      "Top 100 Authors yesterday\n",
      "Top 100 EBooks last 7 days\n",
      "Top 100 Authors last 7 days\n",
      "Top 100 EBooks last 30 days\n",
      "Top 100 Authors last 30 days\n",
      "Frankenstein; Or, The Modern Prometheus by Mary Wollstonecraft Shelley (16144)\n",
      "Pride and Prejudice by Jane Austen (11124)\n",
      "The Adventures of Sherlock Holmes by Arthur Conan Doyle (5150)\n",
      "Alice's Adventures in Wonderland by Lewis Carroll (5096)\n",
      "The Scarlet Letter by Nathaniel Hawthorne (4757)\n",
      "A Tale of Two Cities by Charles Dickens (4746)\n",
      "The Great Gatsby by F. Scott  Fitzgerald (4653)\n",
      "The Yellow Wallpaper by Charlotte Perkins Gilman (4616)\n",
      "Moby Dick; Or, The Whale by Herman Melville (4330)\n",
      "The Picture of Dorian Gray by Oscar Wilde (4179)\n",
      "A Doll's House : a play by Henrik Ibsen (4144)\n",
      "A Modest Proposal by Jonathan Swift (4086)\n",
      "Dracula by Bram Stoker (3700)\n",
      "Ulysses by James Joyce (3628)\n",
      "Great Expectations by Charles Dickens (3604)\n",
      "The Souls of Black Folk by W. E. B.  Du Bois (3270)\n",
      "The Importance of Being Earnest: A Trivial Comedy for Serious People by Oscar Wilde (3083)\n",
      "The Prince by Niccolò Machiavelli (3050)\n",
      "Jane Eyre: An Autobiography by Charlotte Brontë (3045)\n",
      "Heart of Darkness by Joseph Conrad (3008)\n",
      "Adventures of Huckleberry Finn by Mark Twain (2960)\n",
      "A Christmas Carol in Prose; Being a Ghost Story of Christmas by Charles Dickens (2879)\n",
      "The Strange Case of Dr. Jekyll and Mr. Hyde by Robert Louis Stevenson (2747)\n",
      "Narrative of the Life of Frederick Douglass, an American Slave by Frederick Douglass (2596)\n",
      "Metamorphosis by Franz Kafka (2593)\n",
      "The Young Visiters or, Mr. Salteena's Plan by Daisy Ashford (2590)\n",
      "Crime and Punishment by Fyodor Dostoyevsky (2588)\n",
      "The Iliad by Homer (2433)\n",
      "The Awakening, and Selected Short Stories by Kate Chopin (2409)\n",
      "Grimms' Fairy Tales by Jacob Grimm and Wilhelm Grimm (2352)\n",
      "War and Peace by graf Leo Tolstoy (2258)\n",
      "Walden, and On The Duty Of Civil Disobedience by Henry David Thoreau (2145)\n",
      "Little Women by Louisa May Alcott (1994)\n",
      "Anthem by Ayn Rand (1938)\n",
      "The Wonderful Wizard of Oz by L. Frank  Baum (1935)\n",
      "Simple Sabotage Field Manual by United States. Office of Strategic Services (1909)\n",
      "The Interesting Narrative of the Life of Olaudah Equiano, Or Gustavus Vassa, The African by Equiano (1890)\n",
      "The Republic by Plato (1886)\n",
      "Second Treatise of Government by John Locke (1869)\n",
      "The Adventures of Tom Sawyer, Complete by Mark Twain (1846)\n",
      "The Odyssey by Homer (1804)\n",
      "Leviathan by Thomas Hobbes (1794)\n",
      "The Count of Monte Cristo, Illustrated by Alexandre Dumas (1766)\n",
      "A Very Naughty Girl by L. T. Meade (1765)\n",
      "The Brothers Karamazov by Fyodor Dostoyevsky (1758)\n",
      "Anne of Green Gables by L. M.  Montgomery (1750)\n",
      "Wuthering Heights by Emily Brontë (1746)\n",
      "Tractatus Logico-Philosophicus by Ludwig Wittgenstein (1744)\n",
      "The Jungle by Upton Sinclair (1731)\n",
      "The Time Machine by H. G.  Wells (1721)\n",
      "Don Quixote by Miguel de Cervantes Saavedra (1670)\n",
      "Dubliners by James Joyce (1668)\n",
      "The Call of the Wild by Jack London (1599)\n",
      "Beyond Good and Evil by Friedrich Wilhelm Nietzsche (1598)\n",
      "Treasure Island by Robert Louis Stevenson (1582)\n",
      "Gulliver's Travels into Several Remote Nations of the World by Jonathan Swift (1538)\n",
      "Essays of Michel de Montaigne — Complete by Michel de Montaigne (1528)\n",
      "The Works of Edgar Allan Poe — Volume 2 by Edgar Allan Poe (1524)\n",
      "Peter Pan by J. M.  Barrie (1519)\n",
      "Autobiography of Benjamin Franklin by Benjamin Franklin (1501)\n",
      "Around the World in Eighty Days by Jules Verne (1471)\n",
      "Anna Karenina by graf Leo Tolstoy (1463)\n",
      "The Prophet by Kahlil Gibran (1436)\n",
      "Les Misérables by Victor Hugo (1418)\n",
      "Narrative of the Captivity and Restoration of Mrs. Mary Rowlandson by Mary White Rowlandson (1411)\n",
      "Beowulf: An Anglo-Saxon Epic Poem (1396)\n",
      "The Romance of Lust: A classic Victorian erotic novel by Anonymous (1373)\n",
      "The Hound of the Baskervilles by Arthur Conan Doyle (1337)\n",
      "Uncle Tom's Cabin by Harriet Beecher Stowe (1335)\n",
      "A Pickle for the Knowing Ones by Timothy Dexter (1333)\n",
      "The War of the Worlds by H. G.  Wells (1324)\n",
      "Emma by Jane Austen (1299)\n",
      "Candide by Voltaire (1283)\n",
      "Oliver Twist by Charles Dickens (1280)\n",
      "Sense and Sensibility by Jane Austen (1271)\n",
      "Frankenstein; Or, The Modern Prometheus by Mary Wollstonecraft Shelley (1225)\n",
      "A Study in Scarlet by Arthur Conan Doyle (1206)\n",
      "The Legend of Sleepy Hollow by Washington Irving (1205)\n",
      "Pygmalion by Bernard Shaw (1183)\n",
      "The Thousand Buddhas: Ancient Buddhist Paintings from the Cave-Temples of Tun-huang on the Western F (1160)\n",
      "The Kama Sutra of Vatsyayana by Vatsyayana (1155)\n",
      "The Happy Prince, and Other Tales by Oscar Wilde (1149)\n",
      "Incidents in the Life of a Slave Girl, Written by Herself by Harriet A.  Jacobs (1142)\n",
      "Thus Spake Zarathustra: A Book for All and None by Friedrich Wilhelm Nietzsche (1135)\n",
      "Songs of Innocence and of Experience by William Blake (1087)\n",
      "Winnie-the-Pooh by A. A.  Milne (1083)\n",
      "The Secret Garden by Frances Hodgson Burnett (1067)\n",
      "Notes from the Underground by Fyodor Dostoyevsky (1054)\n",
      "The Life and Adventures of Robinson Crusoe by Daniel Defoe (1052)\n",
      "David Copperfield by Charles Dickens (1049)\n",
      "The Mysterious Affair at Styles by Agatha Christie (1026)\n",
      "Japanese Girls and Women by Alice Mabel Bacon (1020)\n",
      "Siddhartha by Hermann Hesse (996)\n",
      "The Confessions of St. Augustine by Bishop of Hippo Saint Augustine (982)\n",
      "A Portrait of the Artist as a Young Man by James Joyce (980)\n",
      "The Eyes Have It by Philip K. Dick (959)\n",
      "The Communist Manifesto by Friedrich Engels and Karl Marx (952)\n",
      "The Engineer by C. M.  Kornbluth and Frederik Pohl (945)\n",
      "The Jungle Book by Rudyard Kipling (941)\n",
      "The Turn of the Screw by Henry James (911)\n",
      "Top 100 EBooks yesterday\n",
      "Top 100 Authors yesterday\n",
      "Top 100 EBooks last 7 days\n",
      "Top 100 Authors last 7 days\n",
      "Top 100 EBooks last 30 days\n",
      "Top 100 Authors last 30 days\n",
      "Dickens, Charles (19435)\n",
      "Shelley, Mary Wollstonecraft (18638)\n",
      "Austen, Jane (17788)\n",
      "Doyle, Arthur Conan (12490)\n",
      "Twain, Mark (11851)\n",
      "Wilde, Oscar (10838)\n",
      "Dostoyevsky, Fyodor (8378)\n",
      "Shakespeare, William (8269)\n",
      "Hawthorne, Nathaniel (7805)\n",
      "Carroll, Lewis (7745)\n",
      "Stevenson, Robert Louis (6916)\n",
      "Wells, H. G. (Herbert George) (6658)\n",
      "Joyce, James (6392)\n",
      "Swift, Jonathan (6279)\n",
      "Tolstoy, Leo, graf (6273)\n",
      "Plato (6123)\n",
      "Melville, Herman (6030)\n",
      "Poe, Edgar Allan (5997)\n",
      "Garnett, Constance (5965)\n",
      "Homer (5908)\n",
      "Jowett, Benjamin (5800)\n",
      "Nietzsche, Friedrich Wilhelm (5781)\n",
      "Ibsen, Henrik (5769)\n",
      "Fitzgerald, F. Scott (Francis Scott) (5400)\n",
      "Verne, Jules (5144)\n",
      "Barrie, J. M. (James Matthew) (5140)\n",
      "Gilman, Charlotte Perkins (5079)\n",
      "Conrad, Joseph (5041)\n",
      "Foote, Mary Hallock (4772)\n",
      "Ipsen, Ludvig Sandöe (4757)\n",
      "Anthony, A. V. S. (Andrew Varick Stout) (4757)\n",
      "Dumas, Alexandre (4745)\n",
      "London, Jack (4592)\n",
      "Kipling, Rudyard (4496)\n",
      "Du Bois, W. E. B. (William Edward Burghardt) (4364)\n",
      "Baum, L. Frank (Lyman Frank) (4240)\n",
      "Stoker, Bram (4146)\n",
      "Christie, Agatha (3858)\n",
      "Pope, Alexander (3855)\n",
      "James, Henry (3713)\n",
      "Dante Alighieri (3712)\n",
      "Kafka, Franz (3679)\n",
      "Montgomery, L. M. (Lucy Maud) (3675)\n",
      "Chekhov, Anton Pavlovich (3654)\n",
      "Brontë, Charlotte (3615)\n",
      "Russell, Bertrand (3469)\n",
      "Alcott, Louisa May (3440)\n",
      "Doré, Gustave (3408)\n",
      "Machiavelli, Niccolò (3385)\n",
      "Thoreau, Henry David (3338)\n",
      "Grimm, Jacob (3314)\n",
      "Grimm, Wilhelm (3314)\n",
      "Rizal, José (3264)\n",
      "Chesterton, G. K. (Gilbert Keith) (3257)\n",
      "Leech, John (3209)\n",
      "Wyllie, David (Translator) (3197)\n",
      "Hugo, Victor (3181)\n",
      "Townsend, F. H. (Frederick Henry) (3161)\n",
      "Kemble, E. W. (Edward Windsor) (3156)\n",
      "Lang, Andrew (3146)\n",
      "Maude, Aylmer (3075)\n",
      "Marriott, W. K. (William Kenaz) (3064)\n",
      "Douglass, Frederick (2960)\n",
      "Defoe, Daniel (2935)\n",
      "Maude, Louise (2912)\n",
      "Wharton, Edith (2845)\n",
      "Cervantes Saavedra, Miguel de (2834)\n",
      "Morley, Henry (2788)\n",
      "Burnett, Frances Hodgson (2769)\n",
      "Shaw, Bernard (2757)\n",
      "Widger, David (2698)\n",
      "Goethe, Johann Wolfgang von (2650)\n",
      "Wodehouse, P. G. (Pelham Grenville) (2643)\n",
      "Butler, Samuel (2614)\n",
      "Ashford, Daisy (2598)\n",
      "Buckley, Theodore Alois (2593)\n",
      "Chopin, Kate (2481)\n",
      "Irving, Washington (2459)\n",
      "Maupassant, Guy de (2411)\n",
      "Locke, John (2298)\n",
      "Voltaire (2217)\n",
      "Hapgood, Isabel Florence (2179)\n",
      "Meade, L. T. (2104)\n",
      "Franklin, Benjamin (2099)\n",
      "Hardy, Thomas (2097)\n",
      "Burton, Richard Francis, Sir (2095)\n",
      "Sinclair, Upton (2092)\n",
      "Ormsby, John (2074)\n",
      "Augustine, Saint, Bishop of Hippo (2073)\n",
      "Balzac, Honoré de (2071)\n",
      "Potter, Beatrix (1996)\n",
      "Bierce, Ambrose (1983)\n",
      "Engle, Robert (1982)\n",
      "Scott, Walter (1980)\n",
      "Rand, Ayn (1980)\n",
      "Cary, Henry Francis (1972)\n",
      "Dick, Philip K. (1945)\n",
      "Eliot, George (1939)\n",
      "Equiano, Olaudah (1912)\n",
      "United States. Office of Strategic Services (1909)\n",
      "Top 100 EBooks yesterday\n",
      "Top 100 Authors yesterday\n",
      "Top 100 EBooks last 7 days\n",
      "Top 100 Authors last 7 days\n",
      "Top 100 EBooks last 30 days\n",
      "Top 100 Authors last 30 days\n",
      "Frankenstein; Or, The Modern Prometheus by Mary Wollstonecraft Shelley (68755)\n",
      "Pride and Prejudice by Jane Austen (53614)\n",
      "The Adventures of Sherlock Holmes by Arthur Conan Doyle (23883)\n",
      "Alice's Adventures in Wonderland by Lewis Carroll (23685)\n",
      "The Eyes Have It by Philip K. Dick (22340)\n",
      "The Scarlet Letter by Nathaniel Hawthorne (20861)\n",
      "The Great Gatsby by F. Scott  Fitzgerald (20070)\n",
      "A Tale of Two Cities by Charles Dickens (19894)\n",
      "A Modest Proposal by Jonathan Swift (19310)\n",
      "A Doll's House : a play by Henrik Ibsen (18978)\n",
      "Moby Dick; Or, The Whale by Herman Melville (18378)\n",
      "The Yellow Wallpaper by Charlotte Perkins Gilman (18264)\n",
      "The Picture of Dorian Gray by Oscar Wilde (17547)\n",
      "Ulysses by James Joyce (16336)\n",
      "Dracula by Bram Stoker (16222)\n",
      "A Christmas Carol in Prose; Being a Ghost Story of Christmas by Charles Dickens (15859)\n",
      "Great Expectations by Charles Dickens (15336)\n",
      "The Importance of Being Earnest: A Trivial Comedy for Serious People by Oscar Wilde (15022)\n",
      "Heart of Darkness by Joseph Conrad (13905)\n",
      "The Prince by Niccolò Machiavelli (13790)\n",
      "Jane Eyre: An Autobiography by Charlotte Brontë (13579)\n",
      "The Strange Case of Dr. Jekyll and Mr. Hyde by Robert Louis Stevenson (13043)\n",
      "Simple Sabotage Field Manual by United States. Office of Strategic Services (12978)\n",
      "Adventures of Huckleberry Finn by Mark Twain (12857)\n",
      "The Souls of Black Folk by W. E. B.  Du Bois (12799)\n",
      "Metamorphosis by Franz Kafka (12393)\n",
      "Crime and Punishment by Fyodor Dostoyevsky (12019)\n",
      "Grimms' Fairy Tales by Jacob Grimm and Wilhelm Grimm (11453)\n",
      "The Iliad by Homer (11410)\n",
      "Walden, and On The Duty Of Civil Disobedience by Henry David Thoreau (10772)\n",
      "The Awakening, and Selected Short Stories by Kate Chopin (9740)\n",
      "War and Peace by graf Leo Tolstoy (9381)\n",
      "Little Women by Louisa May Alcott (9339)\n",
      "Narrative of the Life of Frederick Douglass, an American Slave by Frederick Douglass (9293)\n",
      "The Republic by Plato (9117)\n",
      "Anthem by Ayn Rand (8790)\n",
      "The Adventures of Tom Sawyer, Complete by Mark Twain (8711)\n",
      "The Count of Monte Cristo, Illustrated by Alexandre Dumas (8568)\n",
      "Anne of Green Gables by L. M.  Montgomery (8390)\n",
      "The Wonderful Wizard of Oz by L. Frank  Baum (8345)\n",
      "The Time Machine by H. G.  Wells (8300)\n",
      "Second Treatise of Government by John Locke (8187)\n",
      "The Brothers Karamazov by Fyodor Dostoyevsky (8088)\n",
      "Wuthering Heights by Emily Brontë (7993)\n",
      "Don Quixote by Miguel de Cervantes Saavedra (7933)\n",
      "Around the World in Eighty Days by Jules Verne (7929)\n",
      "Tractatus Logico-Philosophicus by Ludwig Wittgenstein (7880)\n",
      "The Jungle by Upton Sinclair (7780)\n",
      "The Odyssey by Homer (7715)\n",
      "Beowulf: An Anglo-Saxon Epic Poem (7560)\n",
      "Dubliners by James Joyce (7504)\n",
      "Leviathan by Thomas Hobbes (7373)\n",
      "Treasure Island by Robert Louis Stevenson (7271)\n",
      "Candide by Voltaire (7104)\n",
      "The Church Index by William Pepperell (7068)\n",
      "Gulliver's Travels into Several Remote Nations of the World by Jonathan Swift (7037)\n",
      "Peter Pan by J. M.  Barrie (6936)\n",
      "The Prophet by Kahlil Gibran (6881)\n",
      "The Romance of Lust: A classic Victorian erotic novel by Anonymous (6791)\n",
      "Anna Karenina by graf Leo Tolstoy (6790)\n",
      "The Call of the Wild by Jack London (6679)\n",
      "The War of the Worlds by H. G.  Wells (6577)\n",
      "The Interesting Narrative of the Life of Olaudah Equiano, Or Gustavus Vassa, The African by Equiano (6379)\n",
      "The Hound of the Baskervilles by Arthur Conan Doyle (6357)\n",
      "Autobiography of Benjamin Franklin by Benjamin Franklin (6251)\n",
      "The Works of Edgar Allan Poe — Volume 2 by Edgar Allan Poe (6211)\n",
      "Beyond Good and Evil by Friedrich Wilhelm Nietzsche (6192)\n",
      "Les Misérables by Victor Hugo (6139)\n",
      "Essays of Michel de Montaigne — Complete by Michel de Montaigne (6077)\n",
      "A Study in Scarlet by Arthur Conan Doyle (5959)\n",
      "Winnie-the-Pooh by A. A.  Milne (5883)\n",
      "A Pickle for the Knowing Ones by Timothy Dexter (5874)\n",
      "Narrative of the Captivity and Restoration of Mrs. Mary Rowlandson by Mary White Rowlandson (5858)\n",
      "Oliver Twist by Charles Dickens (5786)\n",
      "Emma by Jane Austen (5781)\n",
      "Uncle Tom's Cabin by Harriet Beecher Stowe (5691)\n",
      "Sense and Sensibility by Jane Austen (5635)\n",
      "The Kama Sutra of Vatsyayana by Vatsyayana (5610)\n",
      "Notes from the Underground by Fyodor Dostoyevsky (5453)\n",
      "Songs of Innocence and of Experience by William Blake (5441)\n",
      "The Secret Garden by Frances Hodgson Burnett (5428)\n",
      "Pygmalion by Bernard Shaw (5313)\n",
      "David Copperfield by Charles Dickens (5048)\n",
      "Siddhartha by Hermann Hesse (4957)\n",
      "Thus Spake Zarathustra: A Book for All and None by Friedrich Wilhelm Nietzsche (4885)\n",
      "The Mysterious Affair at Styles by Agatha Christie (4826)\n",
      "The Legend of Sleepy Hollow by Washington Irving (4794)\n",
      "Incidents in the Life of a Slave Girl, Written by Herself by Harriet A.  Jacobs (4759)\n",
      "The Jungle Book by Rudyard Kipling (4734)\n",
      "Frankenstein; Or, The Modern Prometheus by Mary Wollstonecraft Shelley (4715)\n",
      "Japanese Girls and Women by Alice Mabel Bacon (4659)\n",
      "The Life and Adventures of Robinson Crusoe by Daniel Defoe (4630)\n",
      "The Communist Manifesto by Friedrich Engels and Karl Marx (4579)\n",
      "How to Live on 24 Hours a Day by Arnold Bennett (4576)\n",
      "Southern Horrors: Lynch Law in All Its Phases by Ida B. Wells-Barnett (4572)\n",
      "Winesburg, Ohio: A Group of Tales of Ohio Small Town Life by Sherwood Anderson (4543)\n",
      "Persuasion by Jane Austen (4439)\n",
      "The Slang Dictionary: Etymological, Historical and Andecdotal by John Camden Hotten (4376)\n",
      "A Portrait of the Artist as a Young Man by James Joyce (4357)\n",
      "Ethan Frome by Edith Wharton (4350)\n",
      "Top 100 EBooks yesterday\n",
      "Top 100 Authors yesterday\n",
      "Top 100 EBooks last 7 days\n",
      "Top 100 Authors last 7 days\n",
      "Top 100 EBooks last 30 days\n",
      "Top 100 Authors last 30 days\n",
      "Dickens, Charles (90366)\n",
      "Austen, Jane (83554)\n",
      "Shelley, Mary Wollstonecraft (78395)\n",
      "Doyle, Arthur Conan (59232)\n",
      "Twain, Mark (55246)\n",
      "Wilde, Oscar (47976)\n",
      "Dostoyevsky, Fyodor (39735)\n",
      "Shakespeare, William (38571)\n",
      "Carroll, Lewis (36788)\n",
      "Hawthorne, Nathaniel (33187)\n",
      "Stevenson, Robert Louis (32765)\n",
      "Wells, H. G. (Herbert George) (32354)\n",
      "Tolstoy, Leo, graf (29889)\n",
      "Swift, Jonathan (29689)\n",
      "Joyce, James (28793)\n",
      "Plato (28657)\n",
      "Garnett, Constance (27761)\n",
      "Homer (27540)\n",
      "Dick, Philip K. (27495)\n",
      "Jowett, Benjamin (26992)\n",
      "Ibsen, Henrik (26665)\n",
      "Verne, Jules (25667)\n",
      "Melville, Herman (25378)\n",
      "Nietzsche, Friedrich Wilhelm (25191)\n",
      "Poe, Edgar Allan (24429)\n",
      "Fitzgerald, F. Scott (Francis Scott) (23424)\n",
      "Conrad, Joseph (23360)\n",
      "Christie, Agatha (22384)\n",
      "Foote, Mary Hallock (20935)\n",
      "Ipsen, Ludvig Sandöe (20861)\n",
      "Anthony, A. V. S. (Andrew Varick Stout) (20861)\n",
      "Dumas, Alexandre (20802)\n",
      "Gilman, Charlotte Perkins (20347)\n",
      "London, Jack (19850)\n",
      "Baum, L. Frank (Lyman Frank) (19186)\n",
      "Stoker, Bram (18403)\n",
      "James, Henry (18241)\n",
      "Kipling, Rudyard (17894)\n",
      "Pope, Alexander (17731)\n",
      "Dante Alighieri (17709)\n",
      "Montgomery, L. M. (Lucy Maud) (17584)\n",
      "Leech, John (17558)\n",
      "Kafka, Franz (17368)\n",
      "Alcott, Louisa May (16935)\n",
      "Doré, Gustave (16558)\n",
      "Russell, Bertrand (16542)\n",
      "Grimm, Jacob (16540)\n",
      "Grimm, Wilhelm (16540)\n",
      "Brontë, Charlotte (16478)\n",
      "Du Bois, W. E. B. (William Edward Burghardt) (16411)\n",
      "Chekhov, Anton Pavlovich (15855)\n",
      "Wyllie, David (Translator) (15418)\n",
      "Thoreau, Henry David (15404)\n",
      "Machiavelli, Niccolò (15397)\n",
      "Chesterton, G. K. (Gilbert Keith) (14954)\n",
      "Hugo, Victor (14846)\n",
      "Lang, Andrew (14577)\n",
      "Barrie, J. M. (James Matthew) (14316)\n",
      "Maude, Aylmer (14271)\n",
      "Townsend, F. H. (Frederick Henry) (14135)\n",
      "Marriott, W. K. (William Kenaz) (13870)\n",
      "Kemble, E. W. (Edward Windsor) (13860)\n",
      "Wharton, Edith (13785)\n",
      "Defoe, Daniel (13593)\n",
      "Rizal, José (13537)\n",
      "Cervantes Saavedra, Miguel de (13432)\n",
      "Morley, Henry (13326)\n",
      "Goethe, Johann Wolfgang von (13074)\n",
      "United States. Office of Strategic Services (12978)\n",
      "Shaw, Bernard (12933)\n",
      "Widger, David (12915)\n",
      "Burnett, Frances Hodgson (12859)\n",
      "Maude, Louise (12854)\n",
      "Buckley, Theodore Alois (12160)\n",
      "Voltaire (12093)\n",
      "Maupassant, Guy de (11855)\n",
      "Butler, Samuel (11774)\n",
      "Douglass, Frederick (10872)\n",
      "Balzac, Honoré de (10579)\n",
      "Hardy, Thomas (10378)\n",
      "Potter, Beatrix (10228)\n",
      "Locke, John (10186)\n",
      "Irving, Washington (10162)\n",
      "Burton, Richard Francis, Sir (10100)\n",
      "Chopin, Kate (10089)\n",
      "Ormsby, John (9780)\n",
      "Bierce, Ambrose (9763)\n",
      "Hapgood, Isabel Florence (9709)\n",
      "Cary, Henry Francis (9627)\n",
      "Scott, Walter (9468)\n",
      "Sinclair, Upton (9463)\n",
      "Franklin, Benjamin (9423)\n",
      "Wodehouse, P. G. (Pelham Grenville) (9188)\n",
      "Eliot, George (9148)\n",
      "Rand, Ayn (8958)\n",
      "Andersen, H. C. (Hans Christian) (8710)\n",
      "Blake, William (8477)\n",
      "Milne, A. A. (Alan Alexander) (8448)\n",
      "Cooper, James Fenimore (8357)\n",
      "Brontë, Emily (8328)\n",
      "Top 100 EBooks yesterday\n",
      "Top 100 Authors yesterday\n",
      "Top 100 EBooks last 7 days\n",
      "Top 100 Authors last 7 days\n",
      "Top 100 EBooks last 30 days\n",
      "Top 100 Authors last 30 days\n",
      "Privacy policy\n",
      "About Project Gutenberg\n",
      "Terms of Use\n",
      "Contact Information\n",
      "Get Help\n",
      "\n",
      "\n",
      "\n"
     ]
    }
   ],
   "source": [
    "for i in text_list:\n",
    "    print(i) #let's see what had an 'href'"
   ]
  },
  {
   "cell_type": "code",
   "execution_count": 44,
   "metadata": {},
   "outputs": [
    {
     "name": "stdout",
     "output_type": "stream",
     "text": [
      "['', '', '', '', '\\n\\n\\n\\n\\n\\n\\n\\n\\n\\n', '\\n\\n\\n\\n\\n\\n\\n\\n\\n', '\\n\\n', 'About\\n          ▾\\n', 'About Project Gutenberg', 'Collection Development', 'Contact Us', 'History & Philosophy', 'Permissions & License', 'Privacy Policy', 'Terms of Use', 'Search and Browse\\n      \\t  ▾\\n', 'Book Search', 'Bookshelves', 'Frequently Downloaded', 'Offline Catalogs', 'Help\\n          ▾\\n', 'All help topics →', 'Copyright Procedures', 'Errata, Fixes and Bug Reports', 'File Formats', 'Frequently Asked Questions', 'Policies →', 'Public Domain eBook Submission', 'Submitting Your Own Work']\n"
     ]
    }
   ],
   "source": [
    "print(text_list[0:29]) #Check how the list looks like - print first 30 elements"
   ]
  },
  {
   "cell_type": "code",
   "execution_count": 46,
   "metadata": {},
   "outputs": [
    {
     "name": "stdout",
     "output_type": "stream",
     "text": [
      "[100, 100, 2079, 1394, 722, 683, 657, 637, 598, 573, 552, 537, 534, 515, 510, 465, 464, 460, 444, 430, 420, 409, 404, 386, 364, 353, 337, 334, 328, 325, 317, 317, 316, 311, 303, 302, 302, 301, 301, 294, 275, 270, 267, 263, 254, 248, 245, 242, 242, 239, 238, 238, 227, 221, 219, 219, 219, 216, 215, 214, 214, 213, 211, 210, 205, 202, 197, 197, 197, 190, 189, 188, 184, 177, 177, 173, 171, 170, 170, 168]\n"
     ]
    }
   ],
   "source": [
    "# Use regular expression to find the numeric digits in these links.\n",
    "# These are the file number for the Top 100 books.\n",
    "# Initialize empty list to hold the file numbers\n",
    "title_num = [] #empty list created\n",
    "\n",
    "for i in range(19,118): #find top 100 books\n",
    "    link = text_list[i]\n",
    "    link = link.strip()\n",
    "\n",
    "# Regular expression to find the numeric digits in the link (href) string\n",
    "    n = re.findall('[0-9]+',link) #using '+' causes RE to match 1 or more rep of the preceding RE\n",
    "    if len(n) == 1:\n",
    "        # Append the filenumber casted as integer\n",
    "        title_num.append(int(n[0]))\n",
    "\n",
    "print(title_num)"
   ]
  },
  {
   "cell_type": "code",
   "execution_count": 47,
   "metadata": {},
   "outputs": [
    {
     "name": "stdout",
     "output_type": "stream",
     "text": [
      "\n",
      "\n",
      "\n",
      "\n",
      "Top 100 | Project Gutenberg\n",
      "\n",
      "\n",
      "\n",
      "\n",
      "\n",
      "\n",
      "\n",
      "\n",
      "\n",
      "\n",
      "\n",
      "\n",
      "\n",
      "\n",
      "\n",
      "\n",
      "\n",
      "\n",
      "\n",
      "\n",
      "\n",
      "\n",
      "\n",
      "\n",
      "\n",
      "\n",
      "\n",
      "Menu▾\n",
      "\n",
      "\n",
      "\n",
      "About\n",
      "          ▾\n",
      "\n",
      "▾\n",
      "\n",
      "\n",
      "About Project Gutenberg\n",
      "Collection Development\n",
      "Contact Us\n",
      "History & Philosophy\n",
      "Permissions & License\n",
      "Privacy Policy\n",
      "Terms of Use\n",
      "\n",
      "\n",
      "\n",
      "Search and Browse\n",
      "      \t  ▾\n",
      "\n",
      "▾\n",
      "\n",
      "\n",
      "Book Search\n",
      "Bookshelves\n",
      "Frequently Downloaded\n",
      "Offline Catalogs\n",
      "\n",
      "\n",
      "\n",
      "Help\n",
      "          ▾\n",
      "\n",
      "▾\n",
      "\n",
      "\n",
      "All help topics →\n",
      "Copyright Procedures\n",
      "Errata, Fixes and Bug Reports\n",
      "File Formats\n",
      "Frequently Asked Questions\n",
      "Policies →\n",
      "Public Domain eBook Submission\n",
      "Submitting Your Own Work\n",
      "Tablets, Phones and eReaders\n",
      "The Attic →\n",
      "\n",
      "\n",
      "Donate\n",
      "\n",
      "\n",
      "\n",
      "\n",
      "\n",
      "\n",
      "\n",
      "\n",
      "\n",
      "\n",
      "Donation\n",
      "\n",
      "\n",
      "\n",
      "\n",
      "\n",
      "\n",
      "\n",
      "Frequently Viewed or Downloaded\n",
      "These listings are based on the number of times each eBook gets downloaded.\n",
      "      Multiple downloads from the same Internet address on the same day count as one download, and addresses that download more than 100 eBooks in a day are considered robots and are not counted.\n",
      "\n",
      "Downloaded Books\n",
      "2022-02-11126877\n",
      "last 7 days960382\n",
      "last 30 days4575946\n",
      "\n",
      "\n",
      "\n",
      "Top 100 EBooks yesterday\n",
      "Top 100 Authors yesterday\n",
      "Top 100 EBooks last 7 days\n",
      "Top 100 Authors last 7 days\n",
      "Top 100 EBooks last 30 days\n",
      "Top 100 Authors last 30 days\n",
      "\n",
      "\n",
      "Top 100 EBooks yesterday\n",
      "\n",
      "Frankenstein; Or, The Modern Prometheus by Mary Wollstonecraft Shelley (2079)\n",
      "Pride and Prejudice by Jane Austen (1394)\n",
      "Alice's Adventures in Wonderland by Lewis Carroll (722)\n",
      "The Great Gatsby by F. Scott  Fitzgerald (683)\n",
      "The Adventures of Sherlock Holmes by Arthur Conan Doyle (657)\n",
      "The Worst Joke in the World by Elisabeth Sanxay Holding (637)\n",
      "The Scarlet Letter by Nathaniel Hawthorne (598)\n",
      "A Tale of Two Cities by Charles Dickens (573)\n",
      "The Picture of Dorian Gray by Oscar Wilde (552)\n",
      "Dracula by Bram Stoker (537)\n",
      "Moby Dick; Or, The Whale by Herman Melville (534)\n",
      "A Doll's House : a play by Henrik Ibsen (515)\n",
      "The Yellow Wallpaper by Charlotte Perkins Gilman (510)\n",
      "Adventures of Huckleberry Finn by Mark Twain (465)\n",
      "A Christmas Carol in Prose; Being a Ghost Story of Christmas by Charles Dickens (464)\n",
      "A Modest Proposal by Jonat\n"
     ]
    }
   ],
   "source": [
    "print(soup.text[:2000]) #print first 2000 characters"
   ]
  },
  {
   "cell_type": "code",
   "execution_count": 48,
   "metadata": {},
   "outputs": [],
   "source": [
    "# Temp empty list of Ebook names\n",
    "lst_titles_temp = []"
   ]
  },
  {
   "cell_type": "code",
   "execution_count": 49,
   "metadata": {},
   "outputs": [],
   "source": [
    "start_idx = soup.text.splitlines().index('Top 100 EBooks yesterday')"
   ]
  },
  {
   "cell_type": "code",
   "execution_count": 50,
   "metadata": {},
   "outputs": [],
   "source": [
    "for i in range(100):\n",
    "    lst_titles_temp.append(soup.text.splitlines()[start_idx+2+i])"
   ]
  },
  {
   "cell_type": "code",
   "execution_count": 51,
   "metadata": {},
   "outputs": [],
   "source": [
    "#Use regular expression to extract only text from the name strings and append to an empty list\n",
    "lst_titles = [] #empty list\n",
    "\n",
    "for i in range(100):\n",
    "    id1,id2 = re.match('^[a-zA-Z ]*', lst_titles_temp[i]).span() #caret to match pattern at start/asterisk to\n",
    "    lst_titles.append(lst_titles_temp[i][id1:id2]) # match 0 or more of the preceding re"
   ]
  },
  {
   "cell_type": "code",
   "execution_count": 52,
   "metadata": {},
   "outputs": [
    {
     "name": "stdout",
     "output_type": "stream",
     "text": [
      "Top \n",
      "Top \n",
      "Top \n",
      "Top \n",
      "\n",
      "\n",
      "Top \n",
      "\n",
      "Frankenstein\n",
      "Pride and Prejudice by Jane Austen \n",
      "Alice\n",
      "The Great Gatsby by F\n",
      "The Adventures of Sherlock Holmes by Arthur Conan Doyle \n",
      "The Worst Joke in the World by Elisabeth Sanxay Holding \n",
      "The Scarlet Letter by Nathaniel Hawthorne \n",
      "A Tale of Two Cities by Charles Dickens \n",
      "The Picture of Dorian Gray by Oscar Wilde \n",
      "Dracula by Bram Stoker \n",
      "Moby Dick\n",
      "A Doll\n",
      "The Yellow Wallpaper by Charlotte Perkins Gilman \n",
      "Adventures of Huckleberry Finn by Mark Twain \n",
      "A Christmas Carol in Prose\n",
      "A Modest Proposal by Jonathan Swift \n",
      "Great Expectations by Charles Dickens \n",
      "Jane Eyre\n",
      "Ulysses by James Joyce \n",
      "Heart of Darkness by Joseph Conrad \n",
      "The Importance of Being Earnest\n",
      "The Souls of Black Folk by W\n",
      "Bokwala\n",
      "The Prince by Niccol\n",
      "From Missouri by Zane Grey \n",
      "Grimms\n",
      "The Iliad by Homer \n",
      "The Strange Case of Dr\n",
      "Ninth Avenue by Maxwell Bodenheim \n",
      "Metamorphosis by Franz Kafka \n",
      "Narrative of the Life of Frederick Douglass\n",
      "Sam in the Suburbs by P\n",
      "The Awakening\n",
      "Crime and Punishment by Fyodor Dostoyevsky \n",
      "The Interesting Narrative of the Life of Olaudah Equiano\n",
      "Little Women by Louisa May Alcott \n",
      "The Adventures of Tom Sawyer\n",
      "A Very Naughty Girl by L\n",
      "War and Peace by graf Leo Tolstoy \n",
      "Walden\n",
      "Anthem by Ayn Rand \n",
      "Anne of Green Gables by L\n",
      "Tractatus Logico\n",
      "The Count of Monte Cristo\n",
      "Oliver Twist by Charles Dickens \n",
      "The Romance of Lust\n",
      "Wuthering Heights by Emily Bront\n",
      "Caleb Conover\n",
      "Simple Sabotage Field Manual by United States\n",
      "Treasure Island by Robert Louis Stevenson \n",
      "Second Treatise of Government by John Locke \n",
      "The Odyssey by Homer \n",
      "The Republic by Plato \n",
      "The Jungle by Upton Sinclair \n",
      "The Call of the Wild by Jack London \n",
      "The Wonderful Wizard of Oz by L\n",
      "The Brothers Karamazov by Fyodor Dostoyevsky \n",
      "Jackson\n",
      "Gulliver\n",
      "Leviathan by Thomas Hobbes \n",
      "Don Quixote by Miguel de Cervantes Saavedra \n",
      "The Prophet by Kahlil Gibran \n",
      "Hadrian the Seventh by Frederick Rolfe \n",
      "Anna Karenina by graf Leo Tolstoy \n",
      "Emma by Jane Austen \n",
      "Essays of Michel de Montaigne \n",
      "Dubliners by James Joyce \n",
      "The Time Machine by H\n",
      "That\n",
      "The Hound of the Baskervilles by Arthur Conan Doyle \n",
      "Peter Pan by J\n",
      "Around the World in Eighty Days by Jules Verne \n",
      "Les Mis\n",
      "The Works of Edgar Allan Poe \n",
      "Beowulf\n",
      "Beyond Good and Evil by Friedrich Wilhelm Nietzsche \n",
      "Sense and Sensibility by Jane Austen \n",
      "Uncle Tom\n",
      "Alice\n",
      "A Pickle for the Knowing Ones by Timothy Dexter \n",
      "The War of the Worlds by H\n",
      "Narrative of the Captivity and Restoration of Mrs\n",
      "Common Sense by Thomas Paine \n",
      "Autobiography of Benjamin Franklin by Benjamin Franklin \n",
      "Frankenstein\n",
      "Candide by Voltaire \n",
      "Pygmalion by Bernard Shaw \n",
      "Andersen\n",
      "A Study in Scarlet by Arthur Conan Doyle \n",
      "The Kama Sutra of Vatsyayana by Vatsyayana \n",
      "The Importance of Marking Historic Spots\n",
      "David Copperfield by Charles Dickens \n"
     ]
    }
   ],
   "source": [
    "for l in lst_titles:\n",
    "    print(l) #iterates and prints out the list"
   ]
  },
  {
   "cell_type": "code",
   "execution_count": null,
   "metadata": {},
   "outputs": [],
   "source": []
  },
  {
   "cell_type": "markdown",
   "metadata": {},
   "source": [
    "Michael Ersevim - DSC540 Week 9 & 10, Activities 10"
   ]
  },
  {
   "cell_type": "code",
   "execution_count": 1,
   "metadata": {},
   "outputs": [],
   "source": [
    "import urllib.request, urllib.parse, urllib.error, json"
   ]
  },
  {
   "cell_type": "code",
   "execution_count": 6,
   "metadata": {},
   "outputs": [
    {
     "data": {
      "text/plain": [
       "'C:\\\\Users\\\\mersevim'"
      ]
     },
     "execution_count": 6,
     "metadata": {},
     "output_type": "execute_result"
    }
   ],
   "source": [
    "pwd"
   ]
  },
  {
   "cell_type": "code",
   "execution_count": 52,
   "metadata": {
    "scrolled": true
   },
   "outputs": [],
   "source": [
    "with open('APIkey.json') as f:\n",
    "    keys = json.load(f)\n",
    "    omdbapi = keys['OMDBapi']"
   ]
  },
  {
   "cell_type": "code",
   "execution_count": 53,
   "metadata": {},
   "outputs": [],
   "source": [
    "serviceurl = 'http://www.omdbapi.com/?'\n",
    "apikey = '&apikey='+omdbapi"
   ]
  },
  {
   "cell_type": "code",
   "execution_count": 54,
   "metadata": {},
   "outputs": [],
   "source": [
    "def print_json(json_data):\n",
    "    list_keys = ['Title', 'Year', 'Rated', 'Released', 'Runtime', 'Genre', 'Director', 'Writer', \n",
    "               'Actors', 'Plot', 'Language', 'Country', 'Awards', 'Ratings', \n",
    "               'Metascore', 'imdbRating', 'imdbVotes', 'imdbID']\n",
    "    print(\"-\"*50)\n",
    "    for k in list_keys:\n",
    "        if k in list(json_data.keys()):\n",
    "            print(f\"{k}: {json_data[k]}\")\n",
    "    print(\"-\"*50)"
   ]
  },
  {
   "cell_type": "code",
   "execution_count": 55,
   "metadata": {},
   "outputs": [],
   "source": [
    "def save_poster(json_data):\n",
    "    import os\n",
    "    title = json_data['Title']\n",
    "    poster_url = json_data['Poster']\n",
    "    # Splits the poster url by '.' and picks up the last string as file extension\n",
    "    poster_file_extension=poster_url.split('.')[-1]\n",
    "    # Reads the image file from web\n",
    "    poster_data = urllib.request.urlopen(poster_url).read()\n",
    "        \n",
    "    savelocation=os.getcwd()+'\\\\'+'Posters'+'\\\\'\n",
    "    # Creates new directory if the directory does not exist. Otherwise, just use the existing path.\n",
    "    if not os.path.isdir(savelocation):\n",
    "        os.mkdir(savelocation)\n",
    "    \n",
    "    filename=savelocation+str(title)+'.'+poster_file_extension\n",
    "    f=open(filename,'wb')\n",
    "    f.write(poster_data)\n",
    "    f.close()"
   ]
  },
  {
   "cell_type": "code",
   "execution_count": 56,
   "metadata": {},
   "outputs": [],
   "source": [
    "def search_movie(title):\n",
    "    try:\n",
    "        url = serviceurl + urllib.parse.urlencode({'t': str(title)})+apikey\n",
    "        #url = \"http://www.omdbapi.com/?&apikey=520e5a09__;!!DHXL-mcXkJmB!sZWyjcwKt-YCQuJ8MtU7OIR5B-uFyakJM-pY6BnZKs3NsqIpwz5yIYJJYJjb$&t=titanic\"\n",
    "        print(f'Retrieving the data of \"{title}\" now... ')\n",
    "        print(url)\n",
    "        uh = urllib.request.urlopen(url)\n",
    "        data = uh.read()\n",
    "        json_data=json.loads(data)\n",
    "        \n",
    "        if json_data['Response']=='True':\n",
    "            print_json(json_data)\n",
    "            # Asks user whether to download the poster of the movie\n",
    "            if json_data['Poster']!='N/A':\n",
    "                save_poster(json_data)\n",
    "        else:\n",
    "            print(\"Error encountered: \",json_data['Error'])\n",
    "    \n",
    "    except urllib.error.URLError as e:\n",
    "        print(f\"ERROR: {e.reason}\")"
   ]
  },
  {
   "cell_type": "code",
   "execution_count": null,
   "metadata": {},
   "outputs": [],
   "source": []
  },
  {
   "cell_type": "code",
   "execution_count": 57,
   "metadata": {},
   "outputs": [
    {
     "name": "stdout",
     "output_type": "stream",
     "text": [
      "Retrieving the data of \"Titanic\" now... \n",
      "http://www.omdbapi.com/?t=Titanic&apikey=520e5a09\n",
      "--------------------------------------------------\n",
      "Title: Titanic\n",
      "Year: 1997\n",
      "Rated: PG-13\n",
      "Released: 19 Dec 1997\n",
      "Runtime: 194 min\n",
      "Genre: Drama, Romance\n",
      "Director: James Cameron\n",
      "Writer: James Cameron\n",
      "Actors: Leonardo DiCaprio, Kate Winslet, Billy Zane\n",
      "Plot: A seventeen-year-old aristocrat falls in love with a kind but poor artist aboard the luxurious, ill-fated R.M.S. Titanic.\n",
      "Language: English, Swedish, Italian, French\n",
      "Country: United States, Mexico\n",
      "Awards: Won 11 Oscars. 125 wins & 83 nominations total\n",
      "Ratings: [{'Source': 'Internet Movie Database', 'Value': '7.8/10'}, {'Source': 'Rotten Tomatoes', 'Value': '89%'}, {'Source': 'Metacritic', 'Value': '75/100'}]\n",
      "Metascore: 75\n",
      "imdbRating: 7.8\n",
      "imdbVotes: 1,117,107\n",
      "imdbID: tt0120338\n",
      "--------------------------------------------------\n"
     ]
    }
   ],
   "source": [
    "search_movie(\"Titanic\")"
   ]
  },
  {
   "cell_type": "code",
   "execution_count": 60,
   "metadata": {},
   "outputs": [
    {
     "name": "stdout",
     "output_type": "stream",
     "text": [
      "Retrieving the data of \"Random_error\" now... \n",
      "http://www.omdbapi.com/?t=Random_error&apikey=520e5a09\n",
      "Error encountered:  Movie not found!\n"
     ]
    }
   ],
   "source": [
    "search_movie(\"Random_error\")"
   ]
  },
  {
   "cell_type": "code",
   "execution_count": null,
   "metadata": {},
   "outputs": [],
   "source": []
  },
  {
   "cell_type": "markdown",
   "metadata": {},
   "source": [
    "Exercise # 3- Connect to Twitter"
   ]
  },
  {
   "cell_type": "code",
   "execution_count": 59,
   "metadata": {},
   "outputs": [
    {
     "name": "stdout",
     "output_type": "stream",
     "text": [
      "Collecting twitter\n",
      "  Downloading twitter-1.19.3-py2.py3-none-any.whl (50 kB)\n",
      "Installing collected packages: twitter\n",
      "Successfully installed twitter-1.19.3\n",
      "Note: you may need to restart the kernel to use updated packages.\n"
     ]
    }
   ],
   "source": [
    "pip install twitter"
   ]
  },
  {
   "cell_type": "code",
   "execution_count": null,
   "metadata": {},
   "outputs": [],
   "source": [
    "import twitter\n",
    "api = twitter.Api(consumer_key='H1TPQUYwIFmqMo2xOWqFuegsn',\n",
    "  consumer_secret='your_consumer_secret',\n",
    "    access_token_key='your_access_token_key',\n",
    "    access_token_secret='your_access_token_secret')"
   ]
  },
  {
   "cell_type": "code",
   "execution_count": null,
   "metadata": {},
   "outputs": [],
   "source": [
    "print(api.VerifyCredentials())"
   ]
  },
  {
   "cell_type": "code",
   "execution_count": null,
   "metadata": {},
   "outputs": [],
   "source": []
  },
  {
   "cell_type": "code",
   "execution_count": null,
   "metadata": {},
   "outputs": [],
   "source": []
  },
  {
   "cell_type": "code",
   "execution_count": null,
   "metadata": {},
   "outputs": [],
   "source": []
  },
  {
   "cell_type": "markdown",
   "metadata": {},
   "source": [
    "Exercise # 4- Visualizatios of prior datasets"
   ]
  },
  {
   "cell_type": "code",
   "execution_count": 82,
   "metadata": {},
   "outputs": [],
   "source": [
    "import pandas as pd\n",
    "import matplotlib.pyplot as plt\n",
    "import seaborn as sns"
   ]
  },
  {
   "cell_type": "code",
   "execution_count": 117,
   "metadata": {},
   "outputs": [],
   "source": [
    "rodf = pd.read_csv(\"RO_Data.csv\") #old data from my job regarding cost of services by service variables"
   ]
  },
  {
   "cell_type": "code",
   "execution_count": 118,
   "metadata": {},
   "outputs": [
    {
     "data": {
      "text/html": [
       "<div>\n",
       "<style scoped>\n",
       "    .dataframe tbody tr th:only-of-type {\n",
       "        vertical-align: middle;\n",
       "    }\n",
       "\n",
       "    .dataframe tbody tr th {\n",
       "        vertical-align: top;\n",
       "    }\n",
       "\n",
       "    .dataframe thead th {\n",
       "        text-align: right;\n",
       "    }\n",
       "</style>\n",
       "<table border=\"1\" class=\"dataframe\">\n",
       "  <thead>\n",
       "    <tr style=\"text-align: right;\">\n",
       "      <th></th>\n",
       "      <th>Start Eff Date</th>\n",
       "      <th>End Eff Date</th>\n",
       "      <th>Cost</th>\n",
       "      <th>City</th>\n",
       "      <th>County</th>\n",
       "      <th>State</th>\n",
       "      <th>Zip</th>\n",
       "      <th>ABN</th>\n",
       "      <th>Svc Type</th>\n",
       "      <th>Mat</th>\n",
       "      <th>Sched</th>\n",
       "      <th>SCode</th>\n",
       "      <th>Qty</th>\n",
       "      <th>TempOrPerm</th>\n",
       "      <th>Container</th>\n",
       "      <th>SizeInYds</th>\n",
       "    </tr>\n",
       "  </thead>\n",
       "  <tbody>\n",
       "    <tr>\n",
       "      <th>0</th>\n",
       "      <td>11/6/2020</td>\n",
       "      <td>NaN</td>\n",
       "      <td>54.00</td>\n",
       "      <td>SARASOTA</td>\n",
       "      <td>Manatee</td>\n",
       "      <td>FL</td>\n",
       "      <td>34243</td>\n",
       "      <td>2355</td>\n",
       "      <td>DSP</td>\n",
       "      <td>WD</td>\n",
       "      <td>SOC</td>\n",
       "      <td>NaN</td>\n",
       "      <td>1</td>\n",
       "      <td>Permanent</td>\n",
       "      <td>OT</td>\n",
       "      <td>30.0</td>\n",
       "    </tr>\n",
       "    <tr>\n",
       "      <th>1</th>\n",
       "      <td>8/1/2021</td>\n",
       "      <td>NaN</td>\n",
       "      <td>81.77</td>\n",
       "      <td>BELTSVILLE</td>\n",
       "      <td>Prince Georges</td>\n",
       "      <td>MD</td>\n",
       "      <td>20705</td>\n",
       "      <td>2355</td>\n",
       "      <td>DSP</td>\n",
       "      <td>C&amp;D</td>\n",
       "      <td>SOC</td>\n",
       "      <td>NaN</td>\n",
       "      <td>1</td>\n",
       "      <td>Permanent</td>\n",
       "      <td>OT</td>\n",
       "      <td>20.0</td>\n",
       "    </tr>\n",
       "    <tr>\n",
       "      <th>2</th>\n",
       "      <td>9/1/2021</td>\n",
       "      <td>NaN</td>\n",
       "      <td>391.68</td>\n",
       "      <td>ALEXANDRIA</td>\n",
       "      <td>Fairfax</td>\n",
       "      <td>VA</td>\n",
       "      <td>22306</td>\n",
       "      <td>2355</td>\n",
       "      <td>DSP</td>\n",
       "      <td>C&amp;D</td>\n",
       "      <td>SOC</td>\n",
       "      <td>NaN</td>\n",
       "      <td>1</td>\n",
       "      <td>Permanent</td>\n",
       "      <td>OT</td>\n",
       "      <td>30.0</td>\n",
       "    </tr>\n",
       "    <tr>\n",
       "      <th>3</th>\n",
       "      <td>7/1/2021</td>\n",
       "      <td>8/31/2021</td>\n",
       "      <td>384.18</td>\n",
       "      <td>ALEXANDRIA</td>\n",
       "      <td>Fairfax</td>\n",
       "      <td>VA</td>\n",
       "      <td>22306</td>\n",
       "      <td>2355</td>\n",
       "      <td>DSP</td>\n",
       "      <td>C&amp;D</td>\n",
       "      <td>SOC</td>\n",
       "      <td>NaN</td>\n",
       "      <td>1</td>\n",
       "      <td>Permanent</td>\n",
       "      <td>OT</td>\n",
       "      <td>30.0</td>\n",
       "    </tr>\n",
       "    <tr>\n",
       "      <th>4</th>\n",
       "      <td>5/5/2021</td>\n",
       "      <td>6/30/2021</td>\n",
       "      <td>365.88</td>\n",
       "      <td>ALEXANDRIA</td>\n",
       "      <td>Fairfax</td>\n",
       "      <td>VA</td>\n",
       "      <td>22306</td>\n",
       "      <td>2355</td>\n",
       "      <td>DSP</td>\n",
       "      <td>C&amp;D</td>\n",
       "      <td>SOC</td>\n",
       "      <td>NaN</td>\n",
       "      <td>1</td>\n",
       "      <td>Permanent</td>\n",
       "      <td>OT</td>\n",
       "      <td>30.0</td>\n",
       "    </tr>\n",
       "  </tbody>\n",
       "</table>\n",
       "</div>"
      ],
      "text/plain": [
       "  Start Eff Date End Eff Date    Cost        City          County State  \\\n",
       "0      11/6/2020          NaN   54.00    SARASOTA         Manatee    FL   \n",
       "1       8/1/2021          NaN   81.77  BELTSVILLE  Prince Georges    MD   \n",
       "2       9/1/2021          NaN  391.68  ALEXANDRIA         Fairfax    VA   \n",
       "3       7/1/2021    8/31/2021  384.18  ALEXANDRIA         Fairfax    VA   \n",
       "4       5/5/2021    6/30/2021  365.88  ALEXANDRIA         Fairfax    VA   \n",
       "\n",
       "     Zip   ABN Svc Type  Mat Sched  SCode  Qty TempOrPerm Container  SizeInYds  \n",
       "0  34243  2355      DSP   WD   SOC    NaN    1  Permanent        OT       30.0  \n",
       "1  20705  2355      DSP  C&D   SOC    NaN    1  Permanent        OT       20.0  \n",
       "2  22306  2355      DSP  C&D   SOC    NaN    1  Permanent        OT       30.0  \n",
       "3  22306  2355      DSP  C&D   SOC    NaN    1  Permanent        OT       30.0  \n",
       "4  22306  2355      DSP  C&D   SOC    NaN    1  Permanent        OT       30.0  "
      ]
     },
     "execution_count": 118,
     "metadata": {},
     "output_type": "execute_result"
    }
   ],
   "source": [
    "rodf.head() # take a peek"
   ]
  },
  {
   "cell_type": "code",
   "execution_count": 119,
   "metadata": {},
   "outputs": [
    {
     "data": {
      "text/plain": [
       "<AxesSubplot:xlabel='State', ylabel='Cost'>"
      ]
     },
     "execution_count": 119,
     "metadata": {},
     "output_type": "execute_result"
    },
    {
     "data": {
      "image/png": "[encoded data removed]",
      "text/plain": [
       "<Figure size 2160x792 with 1 Axes>"
      ]
     },
     "metadata": {},
     "output_type": "display_data"
    }
   ],
   "source": [
    "sns.set(rc = {'figure.figsize':(30,11)}) # make the graph big enough to read\n",
    "sns.barplot(x='State', y='Cost', data=rodf) # set axes"
   ]
  },
  {
   "cell_type": "code",
   "execution_count": 120,
   "metadata": {},
   "outputs": [
    {
     "data": {
      "text/plain": [
       "Mat\n",
       "C&D     1740\n",
       "MXR       66\n",
       "SSR      868\n",
       "T      42902\n",
       "WD       891\n",
       "Name: Mat, dtype: int64"
      ]
     },
     "execution_count": 120,
     "metadata": {},
     "output_type": "execute_result"
    }
   ],
   "source": [
    "data = rodf.groupby(\"Mat\")[\"Mat\"].count() #prep data for a pie chart - count types of material ('Mat')\n",
    "data"
   ]
  },
  {
   "cell_type": "code",
   "execution_count": 121,
   "metadata": {},
   "outputs": [
    {
     "data": {
      "image/png": "[encoded data removed]",
      "text/plain": [
       "<Figure size 864x576 with 1 Axes>"
      ]
     },
     "metadata": {},
     "output_type": "display_data"
    }
   ],
   "source": [
    "pie, ax = plt.subplots(figsize=[12,8]) # size it up a bit\n",
    "labels = data.keys() # labels are pcts\n",
    "plt.pie(x=data, autopct=\"%.1f%%\", explode=[0.07]*5, labels=labels, pctdistance=0.5) # sets pct format and explodes pie slices\n",
    "plt.title(\"Material types\", fontsize=16); # label and font size"
   ]
  },
  {
   "cell_type": "code",
   "execution_count": 128,
   "metadata": {},
   "outputs": [
    {
     "data": {
      "text/plain": [
       "(30.0, 600.0)"
      ]
     },
     "execution_count": 128,
     "metadata": {},
     "output_type": "execute_result"
    },
    {
     "data": {
      "image/png": "[encoded data removed]",
      "text/plain": [
       "<Figure size 2160x792 with 1 Axes>"
      ]
     },
     "metadata": {},
     "output_type": "display_data"
    }
   ],
   "source": [
    "rodf['Cost'].plot.hist(bins=200) # bin discrete costs to get histogram of all costs\n",
    "plt.xlim([30, 600]) # choose limits of x axis"
   ]
  },
  {
   "cell_type": "raw",
   "metadata": {},
   "source": []
  },
  {
   "cell_type": "code",
   "execution_count": 127,
   "metadata": {},
   "outputs": [
    {
     "name": "stderr",
     "output_type": "stream",
     "text": [
      "C:\\Users\\mersevim\\AppData\\Local\\Continuum\\miniconda3\\envs\\tensorflow-gpu\\lib\\site-packages\\seaborn\\_decorators.py:43: FutureWarning: Pass the following variables as keyword args: x, y. From version 0.12, the only valid positional argument will be `data`, and passing other arguments without an explicit keyword will result in an error or misinterpretation.\n",
      "  FutureWarning\n"
     ]
    },
    {
     "data": {
      "text/plain": [
       "(0.0, 1000.0)"
      ]
     },
     "execution_count": 127,
     "metadata": {},
     "output_type": "execute_result"
    },
    {
     "data": {
      "image/png": "[encoded data removed]",
      "text/plain": [
       "<Figure size 2160x792 with 1 Axes>"
      ]
     },
     "metadata": {},
     "output_type": "display_data"
    }
   ],
   "source": [
    "sns.regplot('SizeInYds','Cost',data=rodf) # a scatter/regression plot\n",
    "plt.xlim([9, 54]) # choose limits of x axis - helps to 'zoom-in' on the majority of the data\n",
    "plt.ylim([0, 1000]) # choose limits of y axis"
   ]
  },
  {
   "cell_type": "code",
   "execution_count": 129,
   "metadata": {},
   "outputs": [
    {
     "name": "stderr",
     "output_type": "stream",
     "text": [
      "C:\\Users\\mersevim\\AppData\\Local\\Continuum\\miniconda3\\envs\\tensorflow-gpu\\lib\\site-packages\\seaborn\\categorical.py:3704: UserWarning: The `factorplot` function has been renamed to `catplot`. The original name will be removed in a future release. Please update your code. Note that the default `kind` in `factorplot` (`'point'`) has changed `'strip'` in `catplot`.\n",
      "  warnings.warn(msg)\n"
     ]
    },
    {
     "data": {
      "text/plain": [
       "<seaborn.axisgrid.FacetGrid at 0x23955f5f8c8>"
      ]
     },
     "execution_count": 129,
     "metadata": {},
     "output_type": "execute_result"
    },
    {
     "data": {
      "image/png": "[encoded data removed]",
      "text/plain": [
       "<Figure size 360x360 with 1 Axes>"
      ]
     },
     "metadata": {},
     "output_type": "display_data"
    }
   ],
   "source": [
    "sns.factorplot(x='Cost', y='Mat', kind='box', data=rodf) # see a box&whiskers of cost by trash material types"
   ]
  },
  {
   "cell_type": "code",
   "execution_count": null,
   "metadata": {},
   "outputs": [],
   "source": []
  }
 ],
 "metadata": {
  "kernelspec": {
   "display_name": "Python 3",
   "language": "python",
   "name": "python3"
  },
  "language_info": {
   "codemirror_mode": {
    "name": "ipython",
    "version": 3
   },
   "file_extension": ".py",
   "mimetype": "text/x-python",
   "name": "python",
   "nbconvert_exporter": "python",
   "pygments_lexer": "ipython3",
   "version": "3.7.4"
  }
 },
 "nbformat": 4,
 "nbformat_minor": 4
}
