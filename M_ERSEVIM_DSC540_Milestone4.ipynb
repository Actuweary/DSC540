{
 "cells": [
  {
   "cell_type": "markdown",
   "metadata": {},
   "source": [
    "Michael Ersevim DSC540 Milestone 4"
   ]
  },
  {
   "cell_type": "code",
   "execution_count": 1,
   "metadata": {},
   "outputs": [
    {
     "data": {
      "text/plain": [
       "'C:\\\\Users\\\\mersevim\\\\DS540 JNB'"
      ]
     },
     "execution_count": 1,
     "metadata": {},
     "output_type": "execute_result"
    }
   ],
   "source": [
    "pwd"
   ]
  },
  {
   "cell_type": "code",
   "execution_count": 1,
   "metadata": {},
   "outputs": [],
   "source": [
    "import requests"
   ]
  },
  {
   "cell_type": "code",
   "execution_count": 2,
   "metadata": {},
   "outputs": [],
   "source": [
    "def get_weather_zip():  # the JSON weather generator\n",
    "    input_zip = input(\"Please enter the five digit zip code: \") #get zipcode\n",
    "    if len(input_zip) != 5:\n",
    "        print(\"Zip code must be 5 digits long!\")\n",
    "        get_weather_zip()\n",
    "    else:\n",
    "        input_temp = input(\"Would you like to view temps in Fahrenheit, Celsius, or Kelvin? \\nEnter 'F' \"\n",
    "                       \"for Fahrenheit, 'C' for Celsius, 'K' for Kelvin: \")\n",
    "        if input_temp == 'K' or input_temp == 'k': #tests for temp units and submits correct code for those units\n",
    "            url = f'http://api.openweathermap.org/data/2.5/weather?zip={input_zip},' \\\n",
    "                      f'us&appid=4beb051f720dbfe14568322d1bff5b5c'\n",
    "        elif input_temp == 'F' or input_temp == 'f': #tests for temp units and submits correct code for those units\n",
    "            url = f'http://api.openweathermap.org/data/2.5/weather?zip={input_zip},' \\\n",
    "                      f'us&units=imperial&appid=4beb051f720dbfe14568322d1bff5b5c'\n",
    "        elif input_temp == 'C' or input_temp == 'c': #tests for temp units and submits correct code for those units\n",
    "            url = f'http://api.openweathermap.org/data/2.5/weather?zip={input_zip},' \\\n",
    "                      f'us&units=metric&appid=4beb051f720dbfe14568322d1bff5b5c'\n",
    "        else: #loops back if invalid input\n",
    "            print(\"Please enter F, C, or K\")\n",
    "            input_temp = input(\"Would you like to view temps in Fahrenheit, Celsius, or \"\n",
    "                           \"Kelvin? \\nEnter 'F' for Fahrenheit, 'C' for Celsius, 'K' for Kelvin: \")\n",
    "        print_nicely(url,input_temp) #calls the display function"
   ]
  },
  {
   "cell_type": "code",
   "execution_count": 3,
   "metadata": {},
   "outputs": [],
   "source": [
    "def print_nicely(url,input_temp):\n",
    "    try:\n",
    "        json_file = requests.get(url)   #uses GET and assigns to var\n",
    "        json_object = json.loads(json_file.text)  # JSON parser\n",
    "        #json_formated_str = json.dumps(json_object, indent=2)  # dump string file - used in development\n",
    "        print(\"\")  # prints a blank line for a less cluttered look\n",
    "        print(\"Current weather conditions for\",json_object[\"name\"]) #sets up the title header for the report\n",
    "    except:\n",
    "        print(\"Your location entry is invalid. Please try again.\") # if connection already good, loc most likely invalid\n",
    "        try_another()\n",
    "    print(\"Current Temp:\",json_object[\"main\"][\"temp\"],\"degrees\",input_temp.upper()) # temp\n",
    "    print(\"High Temp:\",json_object[\"main\"][\"temp_max\"],\"degrees\",input_temp.upper()) # hi temp\n",
    "    print(\"Low Temp:\",json_object[\"main\"][\"temp_min\"],\"degrees\",input_temp.upper()) #and low temp\n",
    "    print(\"Pressure:\",json_object[\"main\"][\"pressure\"],\"hPa\",sep=\"\") # atmospheric pressure\n",
    "    print(\"Humidity:\",json_object[\"main\"][\"humidity\"],\"%\",sep=\"\") # relative humidity\n",
    "    print(\"Clouds:\",json_object[\"weather\"][0][\"description\"]) #weather description\n",
    "    print(\"\") # looks less cluttered with space before next question to continue...\n",
    "    try_another()"
   ]
  },
  {
   "cell_type": "code",
   "execution_count": 4,
   "metadata": {},
   "outputs": [],
   "source": [
    "def try_another():\n",
    "    go_again = input(\n",
    "        \"Would you like to lookup the weather for another area? (Y/N): \")  # gets user input to do another or not\n",
    "    if go_again == 'Y' or go_again == 'y': # allows upper or lower cases\n",
    "        main()  # decision tree calls appropriate function\n",
    "    elif go_again == 'N' or go_again == 'n':\n",
    "        print(\"\")\n",
    "        print(\"Thank you for using my weather lookup tool! Goodbye!\")  # goodbye message if 'no'\n",
    "    else:\n",
    "        print(\"Please make a valid selection! (Enter 'Y' or 'N')\")  # checks for error input\n",
    "        try_another()  # asks again if error"
   ]
  },
  {
   "cell_type": "code",
   "execution_count": 5,
   "metadata": {},
   "outputs": [],
   "source": [
    "def test_connection(): #ensures that a test url returns a clean code (200)\n",
    "    url_test = 'http://api.openweathermap.org/data/2.5/weather?zip=06033,us&units=metric&appid=4beb051f720dbfe14568322d1bff5b5c' #A test connection\n",
    "    try:\n",
    "        json_file = requests.get(url_test)   #uses GET and assigns to var\n",
    "        json_object = json.loads(json_file.text)  # JSON parser\n",
    "        if json_object[\"cod\"] == 200:  # if '200', no problem with server\n",
    "            print(\"\")  # prints a blank line for a less cluttered look\n",
    "            print(\"Welcome to Weather Lookup! Your connection to the weather server is established!\") #confirms if good connection\n",
    "            print(\"\")  # prints a blank line for a less cluttered look\n",
    "    except:\n",
    "        print(\"Your connection or weather server is experiencing difficutlies. Please try again later.\")\n",
    "        quit()\n"
   ]
  },
  {
   "cell_type": "code",
   "execution_count": 6,
   "metadata": {},
   "outputs": [],
   "source": [
    "def main(): #the main input/response handler\n",
    "    input_choose = input(\"Would you like to lookup weather data by U.S. City or zip code? Enter '1' for U.S. City, or '2' for zip: \") #gets user input\n",
    "    if input_choose == '1':\n",
    "        get_weather_city() #decision tree calls appropriate function\n",
    "    elif input_choose == '2':\n",
    "        get_weather_zip() #decision tree calls appropriate function\n",
    "    else:\n",
    "        print(\"Please make a valid selection! (Enter 1 or 2)\") #checks for error input\n",
    "        main() #asks again if error"
   ]
  },
  {
   "cell_type": "code",
   "execution_count": 7,
   "metadata": {},
   "outputs": [
    {
     "name": "stdout",
     "output_type": "stream",
     "text": [
      "Your connection or weather server is experiencing difficutlies. Please try again later.\n"
     ]
    },
    {
     "ename": "KeyboardInterrupt",
     "evalue": "Interrupted by user",
     "output_type": "error",
     "traceback": [
      "\u001b[1;31m---------------------------------------------------------------------------\u001b[0m",
      "\u001b[1;31mKeyboardInterrupt\u001b[0m                         Traceback (most recent call last)",
      "\u001b[1;32m<ipython-input-7-2958038d34f5>\u001b[0m in \u001b[0;36m<module>\u001b[1;34m\u001b[0m\n\u001b[0;32m      2\u001b[0m \u001b[1;33m\u001b[0m\u001b[0m\n\u001b[0;32m      3\u001b[0m \u001b[1;32mif\u001b[0m \u001b[0m__name__\u001b[0m \u001b[1;33m==\u001b[0m \u001b[1;34m\"__main__\"\u001b[0m\u001b[1;33m:\u001b[0m \u001b[1;31m#good practice to use this setup\u001b[0m\u001b[1;33m\u001b[0m\u001b[1;33m\u001b[0m\u001b[0m\n\u001b[1;32m----> 4\u001b[1;33m     \u001b[0mmain\u001b[0m\u001b[1;33m(\u001b[0m\u001b[1;33m)\u001b[0m\u001b[1;33m\u001b[0m\u001b[1;33m\u001b[0m\u001b[0m\n\u001b[0m",
      "\u001b[1;32m<ipython-input-6-fa700ade2f27>\u001b[0m in \u001b[0;36mmain\u001b[1;34m()\u001b[0m\n\u001b[0;32m      1\u001b[0m \u001b[1;32mdef\u001b[0m \u001b[0mmain\u001b[0m\u001b[1;33m(\u001b[0m\u001b[1;33m)\u001b[0m\u001b[1;33m:\u001b[0m \u001b[1;31m#the main input/response handler\u001b[0m\u001b[1;33m\u001b[0m\u001b[1;33m\u001b[0m\u001b[0m\n\u001b[1;32m----> 2\u001b[1;33m     \u001b[0minput_choose\u001b[0m \u001b[1;33m=\u001b[0m \u001b[0minput\u001b[0m\u001b[1;33m(\u001b[0m\u001b[1;34m\"Would you like to lookup weather data by U.S. City or zip code? Enter '1' for U.S. City, or '2' for zip: \"\u001b[0m\u001b[1;33m)\u001b[0m \u001b[1;31m#gets user input\u001b[0m\u001b[1;33m\u001b[0m\u001b[1;33m\u001b[0m\u001b[0m\n\u001b[0m\u001b[0;32m      3\u001b[0m     \u001b[1;32mif\u001b[0m \u001b[0minput_choose\u001b[0m \u001b[1;33m==\u001b[0m \u001b[1;34m'1'\u001b[0m\u001b[1;33m:\u001b[0m\u001b[1;33m\u001b[0m\u001b[1;33m\u001b[0m\u001b[0m\n\u001b[0;32m      4\u001b[0m         \u001b[0mget_weather_city\u001b[0m\u001b[1;33m(\u001b[0m\u001b[1;33m)\u001b[0m \u001b[1;31m#decision tree calls appropriate function\u001b[0m\u001b[1;33m\u001b[0m\u001b[1;33m\u001b[0m\u001b[0m\n\u001b[0;32m      5\u001b[0m     \u001b[1;32melif\u001b[0m \u001b[0minput_choose\u001b[0m \u001b[1;33m==\u001b[0m \u001b[1;34m'2'\u001b[0m\u001b[1;33m:\u001b[0m\u001b[1;33m\u001b[0m\u001b[1;33m\u001b[0m\u001b[0m\n",
      "\u001b[1;32m~\\AppData\\Local\\Continuum\\miniconda3\\envs\\tensorflow-gpu\\lib\\site-packages\\ipykernel\\kernelbase.py\u001b[0m in \u001b[0;36mraw_input\u001b[1;34m(self, prompt)\u001b[0m\n\u001b[0;32m    861\u001b[0m             \u001b[0mself\u001b[0m\u001b[1;33m.\u001b[0m\u001b[0m_parent_ident\u001b[0m\u001b[1;33m,\u001b[0m\u001b[1;33m\u001b[0m\u001b[1;33m\u001b[0m\u001b[0m\n\u001b[0;32m    862\u001b[0m             \u001b[0mself\u001b[0m\u001b[1;33m.\u001b[0m\u001b[0m_parent_header\u001b[0m\u001b[1;33m,\u001b[0m\u001b[1;33m\u001b[0m\u001b[1;33m\u001b[0m\u001b[0m\n\u001b[1;32m--> 863\u001b[1;33m             \u001b[0mpassword\u001b[0m\u001b[1;33m=\u001b[0m\u001b[1;32mFalse\u001b[0m\u001b[1;33m,\u001b[0m\u001b[1;33m\u001b[0m\u001b[1;33m\u001b[0m\u001b[0m\n\u001b[0m\u001b[0;32m    864\u001b[0m         )\n\u001b[0;32m    865\u001b[0m \u001b[1;33m\u001b[0m\u001b[0m\n",
      "\u001b[1;32m~\\AppData\\Local\\Continuum\\miniconda3\\envs\\tensorflow-gpu\\lib\\site-packages\\ipykernel\\kernelbase.py\u001b[0m in \u001b[0;36m_input_request\u001b[1;34m(self, prompt, ident, parent, password)\u001b[0m\n\u001b[0;32m    902\u001b[0m             \u001b[1;32mexcept\u001b[0m \u001b[0mKeyboardInterrupt\u001b[0m\u001b[1;33m:\u001b[0m\u001b[1;33m\u001b[0m\u001b[1;33m\u001b[0m\u001b[0m\n\u001b[0;32m    903\u001b[0m                 \u001b[1;31m# re-raise KeyboardInterrupt, to truncate traceback\u001b[0m\u001b[1;33m\u001b[0m\u001b[1;33m\u001b[0m\u001b[1;33m\u001b[0m\u001b[0m\n\u001b[1;32m--> 904\u001b[1;33m                 \u001b[1;32mraise\u001b[0m \u001b[0mKeyboardInterrupt\u001b[0m\u001b[1;33m(\u001b[0m\u001b[1;34m\"Interrupted by user\"\u001b[0m\u001b[1;33m)\u001b[0m \u001b[1;32mfrom\u001b[0m \u001b[1;32mNone\u001b[0m\u001b[1;33m\u001b[0m\u001b[1;33m\u001b[0m\u001b[0m\n\u001b[0m\u001b[0;32m    905\u001b[0m             \u001b[1;32mexcept\u001b[0m \u001b[0mException\u001b[0m \u001b[1;32mas\u001b[0m \u001b[0me\u001b[0m\u001b[1;33m:\u001b[0m\u001b[1;33m\u001b[0m\u001b[1;33m\u001b[0m\u001b[0m\n\u001b[0;32m    906\u001b[0m                 \u001b[0mself\u001b[0m\u001b[1;33m.\u001b[0m\u001b[0mlog\u001b[0m\u001b[1;33m.\u001b[0m\u001b[0mwarning\u001b[0m\u001b[1;33m(\u001b[0m\u001b[1;34m\"Invalid Message:\"\u001b[0m\u001b[1;33m,\u001b[0m \u001b[0mexc_info\u001b[0m\u001b[1;33m=\u001b[0m\u001b[1;32mTrue\u001b[0m\u001b[1;33m)\u001b[0m\u001b[1;33m\u001b[0m\u001b[1;33m\u001b[0m\u001b[0m\n",
      "\u001b[1;31mKeyboardInterrupt\u001b[0m: Interrupted by user"
     ]
    }
   ],
   "source": [
    "test_connection()\n",
    "\n",
    "if __name__ == \"__main__\": #good practice to use this setup\n",
    "    main()"
   ]
  },
  {
   "cell_type": "code",
   "execution_count": null,
   "metadata": {},
   "outputs": [],
   "source": []
  },
  {
   "cell_type": "code",
   "execution_count": null,
   "metadata": {},
   "outputs": [],
   "source": []
  },
  {
   "cell_type": "code",
   "execution_count": null,
   "metadata": {},
   "outputs": [],
   "source": []
  }
 ],
 "metadata": {
  "kernelspec": {
   "display_name": "Python 3",
   "language": "python",
   "name": "python3"
  },
  "language_info": {
   "codemirror_mode": {
    "name": "ipython",
    "version": 3
   },
   "file_extension": ".py",
   "mimetype": "text/x-python",
   "name": "python",
   "nbconvert_exporter": "python",
   "pygments_lexer": "ipython3",
   "version": "3.7.4"
  }
 },
 "nbformat": 4,
 "nbformat_minor": 4
}
